{
 "cells": [
  {
   "cell_type": "code",
   "execution_count": 207,
   "id": "5b81372e-5e65-4d7d-897e-5b82fa9065b7",
   "metadata": {},
   "outputs": [],
   "source": [
    "import torch\n",
    "import torch.nn as nn\n",
    "from torch.nn import functional as F\n",
    "from torch.optim import Adam, SGD, RMSprop, lr_scheduler\n",
    "from torchvision.datasets import CIFAR10\n",
    "from torchvision.transforms import transforms\n",
    "import pandas as pd\n",
    "import numpy as np\n",
    "import matplotlib.pyplot as plt\n",
    "%matplotlib inline\n",
    "import warnings\n",
    "warnings.filterwarnings('ignore')"
   ]
  },
  {
   "cell_type": "code",
   "execution_count": 91,
   "id": "7a8672c3-fc53-477d-b920-98903a79273f",
   "metadata": {},
   "outputs": [],
   "source": [
    "transform = transforms.Compose([\n",
    "    transforms.RandomCrop(32, padding=4),\n",
    "    transforms.RandomHorizontalFlip(),\n",
    "    transforms.ToTensor(),\n",
    "    transforms.Normalize(mean=[0.4914, 0.4822, 0.4465], std=[0.247, 0.243, 0.261])\n",
    "])"
   ]
  },
  {
   "cell_type": "code",
   "execution_count": 101,
   "id": "2b76fc03-5feb-49c7-a487-4fb47a1b4faf",
   "metadata": {},
   "outputs": [
    {
     "name": "stdout",
     "output_type": "stream",
     "text": [
      "Downloading https://www.cs.toronto.edu/~kriz/cifar-10-python.tar.gz to ./data/classification\\cifar-10-python.tar.gz\n"
     ]
    },
    {
     "name": "stderr",
     "output_type": "stream",
     "text": [
      "100%|███████████████████████████████████████████████████████████████| 170498071/170498071 [02:13<00:00, 1275425.33it/s]\n"
     ]
    },
    {
     "name": "stdout",
     "output_type": "stream",
     "text": [
      "Extracting ./data/classification\\cifar-10-python.tar.gz to ./data/classification\n",
      "Files already downloaded and verified\n"
     ]
    }
   ],
   "source": [
    "train_data = CIFAR10(root='./data/classification',train=True,download=True,transform=transform)\n",
    "test_data = CIFAR10(root='./data/classification',train=False,download=True,transform=transform)"
   ]
  },
  {
   "cell_type": "code",
   "execution_count": 103,
   "id": "68318069-0ab7-483a-9636-d0cedf480c73",
   "metadata": {},
   "outputs": [
    {
     "data": {
      "text/plain": [
       "Dataset CIFAR10\n",
       "    Number of datapoints: 50000\n",
       "    Root location: ./data/classification\n",
       "    Split: Train\n",
       "    StandardTransform\n",
       "Transform: Compose(\n",
       "               RandomCrop(size=(32, 32), padding=4)\n",
       "               RandomHorizontalFlip(p=0.5)\n",
       "               ToTensor()\n",
       "               Normalize(mean=[0.4914, 0.4822, 0.4465], std=[0.247, 0.243, 0.261])\n",
       "           )"
      ]
     },
     "execution_count": 103,
     "metadata": {},
     "output_type": "execute_result"
    }
   ],
   "source": [
    "train_data"
   ]
  },
  {
   "cell_type": "code",
   "execution_count": 105,
   "id": "1b05084f-b6c2-41c5-a3c2-394d79849df2",
   "metadata": {},
   "outputs": [
    {
     "data": {
      "text/plain": [
       "Dataset CIFAR10\n",
       "    Number of datapoints: 10000\n",
       "    Root location: ./data/classification\n",
       "    Split: Test\n",
       "    StandardTransform\n",
       "Transform: Compose(\n",
       "               RandomCrop(size=(32, 32), padding=4)\n",
       "               RandomHorizontalFlip(p=0.5)\n",
       "               ToTensor()\n",
       "               Normalize(mean=[0.4914, 0.4822, 0.4465], std=[0.247, 0.243, 0.261])\n",
       "           )"
      ]
     },
     "execution_count": 105,
     "metadata": {},
     "output_type": "execute_result"
    }
   ],
   "source": [
    "test_data"
   ]
  },
  {
   "cell_type": "code",
   "execution_count": 107,
   "id": "17dedaa2-5271-4e04-a8f6-c611e6f4ea37",
   "metadata": {},
   "outputs": [],
   "source": [
    "from torch.utils.data import DataLoader\n",
    "train_loader = DataLoader(train_data,64,shuffle=True)\n",
    "test_loader = DataLoader(test_data,64,shuffle=False)"
   ]
  },
  {
   "cell_type": "code",
   "execution_count": 209,
   "id": "f80f29b1-a928-475e-8777-3692af33acc6",
   "metadata": {},
   "outputs": [],
   "source": [
    "class CNN(nn.Module):\n",
    "    def __init__(self):\n",
    "        super(CNN,self).__init__()\n",
    "        self.conv1 = nn.Conv2d(3,6,3,padding=1)\n",
    "        self.bn1 = nn.BatchNorm2d(6)\n",
    "        self.conv2 = nn.Conv2d(6,16,3,padding=1)\n",
    "        self.bn2 = nn.BatchNorm2d(16)\n",
    "        self.relu = nn.ReLU()        \n",
    "        self.dropout = nn.Dropout(0.5)\n",
    "        self.pool = nn.MaxPool2d(2,2)\n",
    "        self.fc1 = nn.Linear(16*8*8,120)\n",
    "        self.fc2 = nn.Linear(120,84)\n",
    "        self.fc3 = nn.Linear(84,10)\n",
    "    def forward(self,x): # x -> batch size * 3 *32 *32\n",
    "        x = self.conv1(x)\n",
    "        x = self.bn1(x)\n",
    "        x=  self.relu(x)\n",
    "        x=  self.pool(x) # batch size * 6 * 16 * 16\n",
    "        x = self.conv2(x)\n",
    "        x = self.bn2(x)\n",
    "        x=  self.relu(x)\n",
    "        x=  self.pool(x) # batch size * 6 * 8 * 8\n",
    "        x = x.view(-1,16*8*8)\n",
    "        # x=  self.dropout(x)\n",
    "        x= self.fc1(x)\n",
    "        x=  self.relu(x) # batch size * 120\n",
    "        # x=  self.dropout(x)\n",
    "        x= self.fc2(x)\n",
    "        x=  self.relu(x) # batch size * 84\n",
    "        x= self.fc3(x) # batch size * 10\n",
    "        return x"
   ]
  },
  {
   "cell_type": "code",
   "execution_count": 129,
   "id": "235ade01-2a33-46f2-af57-2ce98c843448",
   "metadata": {},
   "outputs": [],
   "source": [
    "model = CNN().to('cuda')\n",
    "criterion = F.cross_entropy\n",
    "optimizer = SGD(model.parameters(),lr=0.001,momentum=0.9, weight_decay=5e-4)\n",
    "schedular = lr_scheduler.StepLR(optimizer, step_size=30, gamma=0.1)"
   ]
  },
  {
   "cell_type": "code",
   "execution_count": 133,
   "id": "4b98ecc9-3f9b-48a1-bc32-b5d1a2a23ce5",
   "metadata": {},
   "outputs": [
    {
     "data": {
      "text/plain": [
       "torch.Size([64, 10])"
      ]
     },
     "execution_count": 133,
     "metadata": {},
     "output_type": "execute_result"
    }
   ],
   "source": [
    "x = torch.rand(64,3,32,32,device='cuda')\n",
    "model(x).size()"
   ]
  },
  {
   "cell_type": "code",
   "execution_count": 135,
   "id": "f59244f6-4029-4c55-90b1-58f375555a1f",
   "metadata": {},
   "outputs": [
    {
     "name": "stderr",
     "output_type": "stream",
     "text": [
      "100%|█████████████████████████████████████████████████████████████████████| 782/782 [00:25<00:00, 30.31it/s, loss=1.81]\n",
      "100%|█████████████████████████████████████████████████████████████████████| 782/782 [00:25<00:00, 31.02it/s, loss=1.78]\n",
      "100%|██████████████████████████████████████████████████████████████████████| 782/782 [00:26<00:00, 29.88it/s, loss=1.7]\n",
      "100%|█████████████████████████████████████████████████████████████████████| 782/782 [00:26<00:00, 29.26it/s, loss=1.17]\n",
      "100%|█████████████████████████████████████████████████████████████████████| 782/782 [00:26<00:00, 29.59it/s, loss=1.64]\n",
      "100%|█████████████████████████████████████████████████████████████████████| 782/782 [00:24<00:00, 31.87it/s, loss=1.31]\n",
      "100%|█████████████████████████████████████████████████████████████████████| 782/782 [00:24<00:00, 31.50it/s, loss=1.33]\n",
      "100%|█████████████████████████████████████████████████████████████████████| 782/782 [00:24<00:00, 31.66it/s, loss=1.73]\n",
      "100%|█████████████████████████████████████████████████████████████████████| 782/782 [00:23<00:00, 32.65it/s, loss=1.61]\n",
      "100%|█████████████████████████████████████████████████████████████████████| 782/782 [00:24<00:00, 32.58it/s, loss=1.44]\n",
      "100%|█████████████████████████████████████████████████████████████████████| 782/782 [00:24<00:00, 32.07it/s, loss=1.13]\n",
      "100%|████████████████████████████████████████████████████████████████████| 782/782 [00:23<00:00, 32.86it/s, loss=0.946]\n",
      "100%|█████████████████████████████████████████████████████████████████████| 782/782 [00:24<00:00, 31.76it/s, loss=1.03]\n",
      "100%|█████████████████████████████████████████████████████████████████████| 782/782 [00:24<00:00, 32.26it/s, loss=1.09]\n",
      "100%|█████████████████████████████████████████████████████████████████████| 782/782 [00:26<00:00, 29.44it/s, loss=1.47]\n",
      "100%|████████████████████████████████████████████████████████████████████| 782/782 [00:27<00:00, 27.99it/s, loss=0.951]\n",
      "100%|█████████████████████████████████████████████████████████████████████| 782/782 [00:26<00:00, 29.14it/s, loss=1.08]\n",
      "100%|█████████████████████████████████████████████████████████████████████| 782/782 [00:24<00:00, 31.62it/s, loss=1.56]\n",
      "100%|██████████████████████████████████████████████████████████████████████| 782/782 [00:25<00:00, 31.18it/s, loss=1.3]\n",
      "100%|████████████████████████████████████████████████████████████████████| 782/782 [00:25<00:00, 30.91it/s, loss=0.869]\n",
      "100%|█████████████████████████████████████████████████████████████████████| 782/782 [00:25<00:00, 30.77it/s, loss=1.12]\n",
      "100%|████████████████████████████████████████████████████████████████████| 782/782 [00:25<00:00, 30.80it/s, loss=0.762]\n",
      "100%|█████████████████████████████████████████████████████████████████████| 782/782 [00:25<00:00, 30.38it/s, loss=1.21]\n",
      "100%|████████████████████████████████████████████████████████████████████| 782/782 [00:25<00:00, 30.38it/s, loss=0.813]\n",
      "100%|████████████████████████████████████████████████████████████████████| 782/782 [00:25<00:00, 30.12it/s, loss=0.943]\n",
      "100%|████████████████████████████████████████████████████████████████████| 782/782 [00:49<00:00, 15.92it/s, loss=0.657]\n",
      "100%|█████████████████████████████████████████████████████████████████████| 782/782 [00:50<00:00, 15.43it/s, loss=0.64]\n",
      "100%|█████████████████████████████████████████████████████████████████████| 782/782 [00:51<00:00, 15.21it/s, loss=1.09]\n",
      "100%|████████████████████████████████████████████████████████████████████| 782/782 [00:51<00:00, 15.29it/s, loss=0.553]\n",
      "100%|████████████████████████████████████████████████████████████████████| 782/782 [00:50<00:00, 15.34it/s, loss=0.719]\n"
     ]
    }
   ],
   "source": [
    "from tqdm import tqdm\n",
    "for i in range(30):\n",
    "    model.train()\n",
    "    loop = tqdm(train_loader)\n",
    "    for img,lbs in loop:\n",
    "        img,lbs = img.to('cuda'),lbs.to('cuda')\n",
    "        out = model(img)\n",
    "        loss = criterion(out,lbs)\n",
    "        optimizer.zero_grad()\n",
    "        loss.backward()\n",
    "        optimizer.step()\n",
    "        loop.set_postfix(loss=loss.item())\n",
    "    schedular.step()"
   ]
  },
  {
   "cell_type": "code",
   "execution_count": 139,
   "id": "ae864186-264f-45e7-9270-7517deeb9c34",
   "metadata": {},
   "outputs": [
    {
     "name": "stdout",
     "output_type": "stream",
     "text": [
      "correct : 6467/10000, accuracy : 64.67\n"
     ]
    }
   ],
   "source": [
    "corr = 0\n",
    "total = 0\n",
    "model.eval()\n",
    "for img,lbs in test_loader:\n",
    "    img,lbs = img.to('cuda'),lbs.to('cuda')\n",
    "    out = model(img)\n",
    "    _,pred = torch.max(out.data,1)\n",
    "    corr += (pred == lbs).sum().item()\n",
    "    total += lbs.size(0)\n",
    "accuracy = 100*corr/total\n",
    "print(f\"correct : {corr}/{total}, accuracy : {accuracy}\")    "
   ]
  },
  {
   "cell_type": "code",
   "execution_count": 179,
   "id": "d306b671-809c-459d-b0ea-e15a07a734a8",
   "metadata": {},
   "outputs": [],
   "source": [
    "test = {\n",
    "    \"images\": [],\n",
    "    \"labels\": []\n",
    "}\n",
    "for img,lbs in test_loader:\n",
    "    for im in img:\n",
    "        test['images'].append(im)\n",
    "    for lb in lbs:\n",
    "        test['labels'].append(lb)"
   ]
  },
  {
   "cell_type": "code",
   "execution_count": 181,
   "id": "bfcd02f6-c5f2-405d-b732-f8fe241fdf80",
   "metadata": {},
   "outputs": [
    {
     "data": {
      "text/html": [
       "<div>\n",
       "<style scoped>\n",
       "    .dataframe tbody tr th:only-of-type {\n",
       "        vertical-align: middle;\n",
       "    }\n",
       "\n",
       "    .dataframe tbody tr th {\n",
       "        vertical-align: top;\n",
       "    }\n",
       "\n",
       "    .dataframe thead th {\n",
       "        text-align: right;\n",
       "    }\n",
       "</style>\n",
       "<table border=\"1\" class=\"dataframe\">\n",
       "  <thead>\n",
       "    <tr style=\"text-align: right;\">\n",
       "      <th></th>\n",
       "      <th>images</th>\n",
       "      <th>labels</th>\n",
       "    </tr>\n",
       "  </thead>\n",
       "  <tbody>\n",
       "    <tr>\n",
       "      <th>0</th>\n",
       "      <td>[[[tensor(-1.9895), tensor(-1.9895), tensor(-1...</td>\n",
       "      <td>tensor(3)</td>\n",
       "    </tr>\n",
       "    <tr>\n",
       "      <th>1</th>\n",
       "      <td>[[[tensor(1.7575), tensor(1.7416), tensor(1.74...</td>\n",
       "      <td>tensor(8)</td>\n",
       "    </tr>\n",
       "    <tr>\n",
       "      <th>2</th>\n",
       "      <td>[[[tensor(-1.9895), tensor(-1.9895), tensor(-1...</td>\n",
       "      <td>tensor(8)</td>\n",
       "    </tr>\n",
       "    <tr>\n",
       "      <th>3</th>\n",
       "      <td>[[[tensor(-1.9895), tensor(-1.9895), tensor(-1...</td>\n",
       "      <td>tensor(0)</td>\n",
       "    </tr>\n",
       "    <tr>\n",
       "      <th>4</th>\n",
       "      <td>[[[tensor(-1.9895), tensor(-1.9895), tensor(-1...</td>\n",
       "      <td>tensor(6)</td>\n",
       "    </tr>\n",
       "  </tbody>\n",
       "</table>\n",
       "</div>"
      ],
      "text/plain": [
       "                                              images     labels\n",
       "0  [[[tensor(-1.9895), tensor(-1.9895), tensor(-1...  tensor(3)\n",
       "1  [[[tensor(1.7575), tensor(1.7416), tensor(1.74...  tensor(8)\n",
       "2  [[[tensor(-1.9895), tensor(-1.9895), tensor(-1...  tensor(8)\n",
       "3  [[[tensor(-1.9895), tensor(-1.9895), tensor(-1...  tensor(0)\n",
       "4  [[[tensor(-1.9895), tensor(-1.9895), tensor(-1...  tensor(6)"
      ]
     },
     "execution_count": 181,
     "metadata": {},
     "output_type": "execute_result"
    }
   ],
   "source": [
    "test_df = pd.DataFrame(test)\n",
    "test_df.head()"
   ]
  },
  {
   "cell_type": "code",
   "execution_count": 185,
   "id": "12a63d61-0c54-4e64-80eb-63d219ce2a61",
   "metadata": {},
   "outputs": [
    {
     "data": {
      "text/plain": [
       "torch.Size([3, 32, 32])"
      ]
     },
     "execution_count": 185,
     "metadata": {},
     "output_type": "execute_result"
    }
   ],
   "source": [
    "test_df['images'][0].size()"
   ]
  },
  {
   "cell_type": "code",
   "execution_count": 163,
   "id": "d8053711-0c75-44ac-b709-f7e1cbf28293",
   "metadata": {},
   "outputs": [],
   "source": [
    "mean = torch.tensor([0.4914, 0.4822, 0.4465])\n",
    "std = torch.tensor([0.247, 0.243, 0.261])"
   ]
  },
  {
   "cell_type": "code",
   "execution_count": 217,
   "id": "b690f799-169f-4c28-9c92-79f954296d81",
   "metadata": {},
   "outputs": [
    {
     "name": "stdout",
     "output_type": "stream",
     "text": [
      "original : 8 \n",
      "predict : tensor([8], device='cuda:0')\n"
     ]
    },
    {
     "data": {
      "image/png": "[encoded data removed]",
      "text/plain": [
       "<Figure size 640x480 with 1 Axes>"
      ]
     },
     "metadata": {},
     "output_type": "display_data"
    }
   ],
   "source": [
    "index = 1101\n",
    "out = model((test_df['images'][index].to('cuda')).unsqueeze(0))\n",
    "_,pred = torch.max(out,1)\n",
    "print(f\"original : {test_df['labels'][index]} \\npredict : {pred}\")\n",
    "np_img = (test_df['images'][index]*std.view(3, 1, 1) + mean.view(3, 1, 1)).numpy()\n",
    "plt.imshow(np.transpose(np_img,(1,2,0)))\n",
    "plt.show()"
   ]
  },
  {
   "cell_type": "code",
   "execution_count": null,
   "id": "9e3aa643-f222-4890-8c6a-8ac78d6a3b76",
   "metadata": {},
   "outputs": [],
   "source": []
  }
 ],
 "metadata": {
  "kernelspec": {
   "display_name": "PyTorch Env",
   "language": "python",
   "name": "pytorch-env"
  },
  "language_info": {
   "codemirror_mode": {
    "name": "ipython",
    "version": 3
   },
   "file_extension": ".py",
   "mimetype": "text/x-python",
   "name": "python",
   "nbconvert_exporter": "python",
   "pygments_lexer": "ipython3",
   "version": "3.11.10"
  }
 },
 "nbformat": 4,
 "nbformat_minor": 5
}
